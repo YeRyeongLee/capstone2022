{
  "nbformat": 4,
  "nbformat_minor": 0,
  "metadata": {
    "colab": {
      "name": "twitter_kaggle.ipynb",
      "provenance": []
    },
    "kernelspec": {
      "name": "python3",
      "display_name": "Python 3"
    },
    "language_info": {
      "name": "python"
    }
  },
  "cells": [
    {
      "cell_type": "code",
      "execution_count": null,
      "metadata": {
        "id": "sYkqpXlesARy"
      },
      "outputs": [],
      "source": [
        "import numpy as np\n",
        "import pandas as pd\n",
        "import matplotlib.pyplot as plt\n",
        "%matplotlib inline"
      ]
    },
    {
      "cell_type": "code",
      "source": [
        "path = '/content/drive/MyDrive/소캡디/'\n",
        "filename = 'anon_disorder_tweets.csv'"
      ],
      "metadata": {
        "id": "c7QH7ZrDsKmA"
      },
      "execution_count": null,
      "outputs": []
    },
    {
      "cell_type": "code",
      "source": [
        "df = pd.read_csv(path+filename)"
      ],
      "metadata": {
        "id": "QSMotfIXwLur"
      },
      "execution_count": null,
      "outputs": []
    },
    {
      "cell_type": "code",
      "source": [
        "print(df['text'][10])"
      ],
      "metadata": {
        "colab": {
          "base_uri": "https://localhost:8080/"
        },
        "id": "7yzx6c8KwQo6",
        "outputId": "83472c6a-1f8a-4fbc-834b-4c8420a45ccb"
      },
      "execution_count": null,
      "outputs": [
        {
          "output_type": "stream",
          "name": "stdout",
          "text": [
            "I couldn't sleep. Figured out I need more stimulus to win against my anxiety such as new set of battle song.\n",
            "\n",
            "Here, I created new playlist for our fellow friends here. If you are feeling low, try to listen to this before you start your day.\n",
            "\n",
            "https://t.co/FogcOM26Wn\n"
          ]
        }
      ]
    },
    {
      "cell_type": "code",
      "source": [
        "filter_bipolar = ['my bipolar',\n",
        "                  'hypomanic',\n",
        "                  'hypomania',\n",
        "                  'manic',\n",
        "                  'mania',\n",
        "                  'depressive',\n",
        "                  'i have bipolar',\n",
        "                  'diagnosed bipolar',\n",
        "                  'i am bipolar',\n",
        "                  'being bipolar',\n",
        "                  'i have bp2',\n",
        "                  'diagnosed with bipolar']\n",
        "\n",
        "filter_depress = ['got diagnosed',\n",
        "                  'diagnosed with depression',\n",
        "                  'i have depression',\n",
        "                  'suffering from depression',\n",
        "                  'my depression',\n",
        "                  \"i'm depressed\",\n",
        "                  'been depressed',\n",
        "                  'dealing with depression',\n",
        "                  'diagnosed me with depression']\n",
        "\n",
        "filter_Anxiety = ['dealing with anxiety',\n",
        "                  'my anxiety',\n",
        "                  'have anxiety',\n",
        "                  'suffering from anxiety',\n",
        "                  \"i'm anxious\",\n",
        "                  'got diagnosed',\n",
        "                  'diagnosed me with anxiety',\n",
        "                  'diagnosed with social anxiety',\n",
        "                  'diagnosed with anxiety',\n",
        "                  'diagnosed with sad', \n",
        "                  'diagnosed with gad']"
      ],
      "metadata": {
        "id": "MQ3VKVGQxgUh"
      },
      "execution_count": null,
      "outputs": []
    },
    {
      "cell_type": "code",
      "source": [
        "df['disorder'].unique()"
      ],
      "metadata": {
        "colab": {
          "base_uri": "https://localhost:8080/"
        },
        "id": "saCddkp218d0",
        "outputId": "47238abd-8fc9-472f-b7cf-5ad80d1d4686"
      },
      "execution_count": null,
      "outputs": [
        {
          "output_type": "execute_result",
          "data": {
            "text/plain": [
              "array(['anxiety', 'depression', 'ptsd', 'borderline', 'panic', 'bipolar'],\n",
              "      dtype=object)"
            ]
          },
          "metadata": {},
          "execution_count": 20
        }
      ]
    },
    {
      "cell_type": "code",
      "source": [
        "diseases = ['anxiety', 'depression', 'bipolar']"
      ],
      "metadata": {
        "id": "Tm-t6ET_2AVN"
      },
      "execution_count": null,
      "outputs": []
    },
    {
      "cell_type": "code",
      "source": [
        "filter_dict = {\n",
        "    'anxiety': filter_Anxiety,\n",
        "    'depression': filter_depress,\n",
        "    'bipolar': filter_bipolar\n",
        "}"
      ],
      "metadata": {
        "id": "JxIPXz1e2Xmm"
      },
      "execution_count": null,
      "outputs": []
    },
    {
      "cell_type": "code",
      "source": [
        "data_dict = {}\n",
        "\n",
        "for d in diseases:\n",
        "  data = df[df.disorder == d]\n",
        "  data_dict[d] = data['text']"
      ],
      "metadata": {
        "id": "aIAEg41p2iAh"
      },
      "execution_count": null,
      "outputs": []
    },
    {
      "cell_type": "code",
      "source": [
        "def is_filtering(text, subreddit): # 필터링 단어가 존재함\n",
        "  for subtext in filter_dict[subreddit]:\n",
        "    if subtext in text.lower():\n",
        "      return True\n",
        "  return False"
      ],
      "metadata": {
        "id": "wtnMtnUb3VSJ"
      },
      "execution_count": null,
      "outputs": []
    },
    {
      "cell_type": "code",
      "source": [
        "def full_filtering(data):\n",
        "  result = {}\n",
        "\n",
        "  for subreddit in diseases:\n",
        "    result[subreddit] = []\n",
        "    texts = data[subreddit]\n",
        "    for text in texts:\n",
        "      if is_filtering(text, subreddit):\n",
        "        result[subreddit].append(text)\n",
        "  \n",
        "  for subreddit in diseases:\n",
        "    result[subreddit] = pd.Series(result[subreddit])\n",
        "\n",
        "  return result"
      ],
      "metadata": {
        "id": "1gqCix5t3WC5"
      },
      "execution_count": null,
      "outputs": []
    },
    {
      "cell_type": "code",
      "source": [
        "filtered_dict = full_filtering(data_dict)"
      ],
      "metadata": {
        "id": "w0_AUbUq3HF7"
      },
      "execution_count": null,
      "outputs": []
    },
    {
      "cell_type": "code",
      "source": [
        "filtered_dict['depression'][4]"
      ],
      "metadata": {
        "colab": {
          "base_uri": "https://localhost:8080/",
          "height": 71
        },
        "id": "jKHnJHW03m3K",
        "outputId": "509da31a-dbc8-4c02-a47b-e3caf2990b04"
      },
      "execution_count": null,
      "outputs": [
        {
          "output_type": "execute_result",
          "data": {
            "text/plain": [
              "\"I get tired easily and always hungry bcoz I have depression disorder.\\n\\nI have trouble waking up bcoz I have insomnia due to my depression.\\n\\nI'm easily hurt bcoz depression caused me to be oversensitive.\\n\\nMy low blood pressure didn't help out either.\\n\\nI never said I was normal.\""
            ],
            "application/vnd.google.colaboratory.intrinsic+json": {
              "type": "string"
            }
          },
          "metadata": {},
          "execution_count": 29
        }
      ]
    },
    {
      "cell_type": "code",
      "source": [
        "for d in diseases:\n",
        "  filtered_dict[d].to_csv(path+'filtered_'+d+'_twitter'+'.csv', index=False)"
      ],
      "metadata": {
        "id": "NKSC9XSu3zpP"
      },
      "execution_count": null,
      "outputs": []
    },
    {
      "cell_type": "code",
      "source": [
        "def describe(data):\n",
        "  for l in diseases:\n",
        "    print(\"Label:\", l)\n",
        "    print(data[l].describe())\n",
        "    print()"
      ],
      "metadata": {
        "id": "1l7wR-iG4y4r"
      },
      "execution_count": null,
      "outputs": []
    },
    {
      "cell_type": "code",
      "source": [
        "describe(data_dict)"
      ],
      "metadata": {
        "colab": {
          "base_uri": "https://localhost:8080/"
        },
        "id": "xwztYYcF4841",
        "outputId": "15783458-fb72-4e06-c2a7-f28a018263d6"
      },
      "execution_count": null,
      "outputs": [
        {
          "output_type": "stream",
          "name": "stdout",
          "text": [
            "Label: anxiety\n",
            "count     6826939\n",
            "unique    6814185\n",
            "top          carp\n",
            "freq          144\n",
            "Name: text, dtype: object\n",
            "\n",
            "Label: depression\n",
            "count     14527850\n",
            "unique    14488510\n",
            "top           carp\n",
            "freq           352\n",
            "Name: text, dtype: object\n",
            "\n",
            "Label: bipolar\n",
            "count     2546237\n",
            "unique    2544139\n",
            "top          carp\n",
            "freq           39\n",
            "Name: text, dtype: object\n",
            "\n"
          ]
        }
      ]
    },
    {
      "cell_type": "code",
      "source": [
        "describe(filtered_dict)"
      ],
      "metadata": {
        "colab": {
          "base_uri": "https://localhost:8080/"
        },
        "id": "9OkZBfHw5DPl",
        "outputId": "021c88bb-1a99-4eab-feb0-a42db8e62c35"
      },
      "execution_count": null,
      "outputs": [
        {
          "output_type": "stream",
          "name": "stdout",
          "text": [
            "Label: anxiety\n",
            "count                                                  8641\n",
            "unique                                                 8636\n",
            "top       My doctor diagnosed me with anxiety and consti...\n",
            "freq                                                      4\n",
            "dtype: object\n",
            "\n",
            "Label: depression\n",
            "count                                                11549\n",
            "unique                                               11542\n",
            "top       @JotaroBut I have been diagnosed with depression\n",
            "freq                                                     3\n",
            "dtype: object\n",
            "\n",
            "Label: bipolar\n",
            "count                                                  8152\n",
            "unique                                                 8152\n",
            "top       well for starters, you are an animaniacs accou...\n",
            "freq                                                      1\n",
            "dtype: object\n",
            "\n"
          ]
        }
      ]
    },
    {
      "cell_type": "code",
      "source": [
        "df_control = pd.read_csv(path + 'anon_control_tweets.csv')"
      ],
      "metadata": {
        "colab": {
          "base_uri": "https://localhost:8080/"
        },
        "id": "ix0Cjg325G_C",
        "outputId": "0b7139bf-f02e-4ac9-a364-96d088c6e9bc"
      },
      "execution_count": null,
      "outputs": [
        {
          "output_type": "stream",
          "name": "stderr",
          "text": [
            "/usr/local/lib/python3.7/dist-packages/IPython/core/interactiveshell.py:2882: DtypeWarning: Columns (0,1,2,3) have mixed types.Specify dtype option on import or set low_memory=False.\n",
            "  exec(code_obj, self.user_global_ns, self.user_ns)\n"
          ]
        }
      ]
    },
    {
      "cell_type": "code",
      "source": [
        "sample = df_control.sample(10000)"
      ],
      "metadata": {
        "id": "gE7NQGcM6K5a"
      },
      "execution_count": null,
      "outputs": []
    },
    {
      "cell_type": "code",
      "source": [
        "# sample['text'].to_csv(path+'control_twitter.csv')"
      ],
      "metadata": {
        "id": "FyaxbcPC7cvY"
      },
      "execution_count": null,
      "outputs": []
    },
    {
      "cell_type": "code",
      "source": [
        "sample_s = pd.Series(sample['text'])"
      ],
      "metadata": {
        "id": "29Ka0ziw7oez"
      },
      "execution_count": null,
      "outputs": []
    },
    {
      "cell_type": "code",
      "source": [
        "sample_s.to_csv(path+'twitter_non_mh.csv', index=False)"
      ],
      "metadata": {
        "id": "OZ7IIN4T-5nM"
      },
      "execution_count": null,
      "outputs": []
    },
    {
      "cell_type": "code",
      "source": [
        "sampled_dict = {}\n",
        "for d in diseases:\n",
        "  sampled = data_dict[d].sample(10000)\n",
        "  sampled_dict[d] = pd.Series(sampled)"
      ],
      "metadata": {
        "id": "_C-QAb4P_HjE"
      },
      "execution_count": null,
      "outputs": []
    },
    {
      "cell_type": "code",
      "source": [
        "for d in diseases:\n",
        "  sampled_dict[d].to_csv(path+'sample_'+d+'_twitter'+'.csv', index=False)"
      ],
      "metadata": {
        "id": "9URNLw_XChaJ"
      },
      "execution_count": null,
      "outputs": []
    },
    {
      "cell_type": "code",
      "source": [
        ""
      ],
      "metadata": {
        "id": "AyS0Ra99DoZZ"
      },
      "execution_count": null,
      "outputs": []
    }
  ]
}