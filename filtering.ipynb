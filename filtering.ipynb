{
  "nbformat": 4,
  "nbformat_minor": 0,
  "metadata": {
    "colab": {
      "name": "filtering.ipynb",
      "provenance": []
    },
    "kernelspec": {
      "name": "python3",
      "display_name": "Python 3"
    },
    "language_info": {
      "name": "python"
    }
  },
  "cells": [
    {
      "cell_type": "code",
      "source": [
        "subreddits = ['schizophrenia', 'ADHD', 'bipolar', 'depression', 'Anxiety']\n",
        "\n",
        "\n",
        "filter_schizo = ['diagnosed me with schizophrenia', \n",
        "                 'diagnosed me with psychosis',\n",
        "                 'diagnosed with schizophrenia',\n",
        "                 'diagnosed with psychosis',\n",
        "                 'diagnosed with schizoaffective disorder',\n",
        "                 'i am schizophrenic',\n",
        "                 'i have schizophrenia',\n",
        "                 'i have schizoaffective disorder',\n",
        "                 'i have psychosis',\n",
        "                 'my schizophrenia']\n",
        "\n",
        "filter_ADHD = ['i have adhd',\n",
        "               'diagnosed with adhd',\n",
        "               'diagnosed me with adhd'\n",
        "               'living with adhd',\n",
        "               'my adhd']\n",
        "\n",
        "filter_bipolar = ['my bipolar',\n",
        "                  'hypomanic',\n",
        "                  'hypomania',\n",
        "                  'manic',\n",
        "                  'mania',\n",
        "                  'depressive',\n",
        "                  'i have bipolar',\n",
        "                  'diagnosed bipolar',\n",
        "                  'i am bipolar',\n",
        "                  'being bipolar',\n",
        "                  'i have bp2',\n",
        "                  'diagnosed with bipolar']\n",
        "\n",
        "filter_depress = ['got diagnosed',\n",
        "                  'diagnosed with depression',\n",
        "                  'i have depression',\n",
        "                  'suffering from depression',\n",
        "                  'my depression',\n",
        "                  \"i'm depressed\",\n",
        "                  'been depressed',\n",
        "                  'dealing with depression',\n",
        "                  'diagnosed me with anxiety']\n",
        "\n",
        "filter_Anxiety = ['dealing with anxiety',\n",
        "                  'my anxiety',\n",
        "                  'have anxiety',\n",
        "                  'suffering from anxiety',\n",
        "                  \"i'm anxious\",\n",
        "                  'got diagnosed',\n",
        "                  'diagnosed me with anxiety',\n",
        "                  'diagnosed with social anxiety',\n",
        "                  'diagnosed with anxiety',\n",
        "                  'diagnosed with sad', \n",
        "                  'diagnosed with gad']\n",
        "\n",
        "filter_dict = {\n",
        "    'schizophrenia': filter_schizo,\n",
        "    'ADHD': filter_ADHD, \n",
        "    'bipolar': filter_bipolar,\n",
        "    'depression': filter_depress,\n",
        "    'Anxiety': filter_Anxiety\n",
        "}"
      ],
      "metadata": {
        "id": "uJrpdCSoMSOq"
      },
      "execution_count": null,
      "outputs": []
    },
    {
      "cell_type": "code",
      "source": [
        "import pandas as pd\n",
        "import numpy as np\n",
        "\n",
        "path = \"/content/drive/MyDrive/Colab Notebooks/소캡디/data/\""
      ],
      "metadata": {
        "id": "rywOHTFaMWML"
      },
      "execution_count": null,
      "outputs": []
    },
    {
      "cell_type": "code",
      "source": [
        "data = {}\n",
        "\n",
        "for subreddit in subreddits:\n",
        "  d = pd.read_csv(path+subreddit+'2022.csv')\n",
        "  data[subreddit] = d['title'] + \" \" + d['text_context']"
      ],
      "metadata": {
        "id": "OHC1uy53xXGQ"
      },
      "execution_count": null,
      "outputs": []
    },
    {
      "cell_type": "code",
      "source": [
        "def describe(data):\n",
        "  for l in subreddits:\n",
        "    print(\"Label:\", l)\n",
        "    print(data[l].describe())\n",
        "    print()"
      ],
      "metadata": {
        "id": "tAFMLFd60oto"
      },
      "execution_count": null,
      "outputs": []
    },
    {
      "cell_type": "code",
      "source": [
        "describe(data)"
      ],
      "metadata": {
        "colab": {
          "base_uri": "https://localhost:8080/"
        },
        "id": "8rKLsmX42NxS",
        "outputId": "09caf344-6b9b-4806-ca2b-6d17e5262733"
      },
      "execution_count": null,
      "outputs": [
        {
          "output_type": "stream",
          "name": "stdout",
          "text": [
            "Label: schizophrenia\n",
            "count                                                  4161\n",
            "unique                                                 4144\n",
            "top       figures I hate shadow figures. They don't let ...\n",
            "freq                                                      7\n",
            "dtype: object\n",
            "\n",
            "Label: ADHD\n",
            "count                                                 44851\n",
            "unique                                                44721\n",
            "top       Weekly \"I'm new to meds!\" Thread Just started ...\n",
            "freq                                                     19\n",
            "dtype: object\n",
            "\n",
            "Label: bipolar\n",
            "count                                                 12742\n",
            "unique                                                12731\n",
            "top       Tell me how How does a bipolar ovulating mid 2...\n",
            "freq                                                      3\n",
            "dtype: object\n",
            "\n",
            "Label: depression\n",
            "count                                                 48657\n",
            "unique                                                48490\n",
            "top       I only want to live because I'm too scared to ...\n",
            "freq                                                     27\n",
            "dtype: object\n",
            "\n",
            "Label: Anxiety\n",
            "count                                                 29982\n",
            "unique                                                29811\n",
            "top       Set your intention Happy Sunday /r/Anxiety! \\n...\n",
            "freq                                                     19\n",
            "dtype: object\n",
            "\n"
          ]
        }
      ]
    },
    {
      "cell_type": "code",
      "source": [
        "for l in subreddits:\n",
        "  data[l] = data[l].drop_duplicates()\n",
        "  data[l] = data[l].dropna()"
      ],
      "metadata": {
        "id": "98Ov5URM48KC"
      },
      "execution_count": null,
      "outputs": []
    },
    {
      "cell_type": "code",
      "source": [
        "describe(data)"
      ],
      "metadata": {
        "colab": {
          "base_uri": "https://localhost:8080/"
        },
        "id": "eBYVkCIo5I9C",
        "outputId": "6a6a4fd1-efd5-4cf1-ac40-f9d1a0761d90"
      },
      "execution_count": null,
      "outputs": [
        {
          "output_type": "stream",
          "name": "stdout",
          "text": [
            "Label: schizophrenia\n",
            "count                                                  4144\n",
            "unique                                                 4144\n",
            "top       So sorry you're not here I've been sane too lo...\n",
            "freq                                                      1\n",
            "dtype: object\n",
            "\n",
            "Label: ADHD\n",
            "count                                                 44721\n",
            "unique                                                44721\n",
            "top       Less impulsive, can complete artwork So I have...\n",
            "freq                                                      1\n",
            "dtype: object\n",
            "\n",
            "Label: bipolar\n",
            "count                                                 12731\n",
            "unique                                                12731\n",
            "top       When did you tell your parents I haven’t told ...\n",
            "freq                                                      1\n",
            "dtype: object\n",
            "\n",
            "Label: depression\n",
            "count                                                 48490\n",
            "unique                                                48490\n",
            "top       Just a little something I am so lonely\\n\\nI wi...\n",
            "freq                                                      1\n",
            "dtype: object\n",
            "\n",
            "Label: Anxiety\n",
            "count                                                 29811\n",
            "unique                                                29811\n",
            "top       Resources for Panic Attacks Im scared to have ...\n",
            "freq                                                      1\n",
            "dtype: object\n",
            "\n"
          ]
        }
      ]
    },
    {
      "cell_type": "code",
      "source": [
        "def is_filtering(text, subreddit): # 필터링 단어가 존재함\n",
        "  for subtext in filter_dict[subreddit]:\n",
        "    if subtext in text.lower():\n",
        "      return True\n",
        "  return False"
      ],
      "metadata": {
        "id": "XWhVgbTw2Pc5"
      },
      "execution_count": null,
      "outputs": []
    },
    {
      "cell_type": "code",
      "source": [
        "def full_filtering(data, filter_dict):\n",
        "  result = {}\n",
        "\n",
        "  for subreddit in subreddits:\n",
        "    result[subreddit] = []\n",
        "    texts = data[subreddit]\n",
        "    for text in texts:\n",
        "      if is_filtering(text, subreddit):\n",
        "        result[subreddit].append(text)\n",
        "  \n",
        "  for subreddit in subreddits:\n",
        "    result[subreddit] = pd.Series(result[subreddit])\n",
        "\n",
        "  return result"
      ],
      "metadata": {
        "id": "94mCXUDP3Qt9"
      },
      "execution_count": null,
      "outputs": []
    },
    {
      "cell_type": "code",
      "source": [
        "filtered = full_filtering(data, filter_dict)"
      ],
      "metadata": {
        "id": "92fnEqeR3_NX"
      },
      "execution_count": null,
      "outputs": []
    },
    {
      "cell_type": "code",
      "source": [
        "describe(filtered)"
      ],
      "metadata": {
        "colab": {
          "base_uri": "https://localhost:8080/"
        },
        "id": "qA9izSQv4FQN",
        "outputId": "c2c037f0-00e2-4efb-9d0e-8dcb044d66c7"
      },
      "execution_count": null,
      "outputs": [
        {
          "output_type": "stream",
          "name": "stdout",
          "text": [
            "Label: schizophrenia\n",
            "count                                                   269\n",
            "unique                                                  269\n",
            "top       Is it possible to lose whether on my antipsych...\n",
            "freq                                                      1\n",
            "dtype: object\n",
            "\n",
            "Label: ADHD\n",
            "count                                                 10228\n",
            "unique                                                10228\n",
            "top       Dealing With Inattentive ADHD Without Adderall...\n",
            "freq                                                      1\n",
            "dtype: object\n",
            "\n",
            "Label: bipolar\n",
            "count                                                  5615\n",
            "unique                                                 5615\n",
            "top       I am diagnosed bipolar II and I refuse to be a...\n",
            "freq                                                      1\n",
            "dtype: object\n",
            "\n",
            "Label: depression\n",
            "count                                                  5494\n",
            "unique                                                 5494\n",
            "top       I just want my ex back more than anything I ha...\n",
            "freq                                                      1\n",
            "dtype: object\n",
            "\n",
            "Label: Anxiety\n",
            "count                                                  7677\n",
            "unique                                                 7677\n",
            "top       Resources for Panic Attacks Im scared to have ...\n",
            "freq                                                      1\n",
            "dtype: object\n",
            "\n"
          ]
        }
      ]
    },
    {
      "cell_type": "code",
      "source": [
        "print(filtered['schizophrenia'][0])"
      ],
      "metadata": {
        "colab": {
          "base_uri": "https://localhost:8080/"
        },
        "id": "5hmEBAEQ4w3Q",
        "outputId": "69d66ade-34b3-41ad-9baf-67f362be77fe"
      },
      "execution_count": null,
      "outputs": [
        {
          "output_type": "stream",
          "name": "stdout",
          "text": [
            "Is it possible to lose whether on my antipsychotic? I was diagnosed with schizophrenia and given Abilify. It caused me to gain 15 pounds. Is it possible to lose weight while taking this medication? Has anyone else successfully done it?\n"
          ]
        }
      ]
    },
    {
      "cell_type": "code",
      "source": [
        "sample = 'my doctor diagnosed me with'\n"
      ],
      "metadata": {
        "id": "MjEX_y937nFL"
      },
      "execution_count": null,
      "outputs": []
    },
    {
      "cell_type": "code",
      "source": [
        "is_filtering(sample, 'schizophrenia')"
      ],
      "metadata": {
        "colab": {
          "base_uri": "https://localhost:8080/"
        },
        "id": "zqlgddZd8QHI",
        "outputId": "bfc15b21-691d-4295-9d7b-9ada1b554ae2"
      },
      "execution_count": null,
      "outputs": [
        {
          "output_type": "execute_result",
          "data": {
            "text/plain": [
              "False"
            ]
          },
          "metadata": {},
          "execution_count": 41
        }
      ]
    },
    {
      "cell_type": "code",
      "source": [
        "print(filtered['ADHD'][0])"
      ],
      "metadata": {
        "colab": {
          "base_uri": "https://localhost:8080/"
        },
        "id": "YvQ1zF2g8ouN",
        "outputId": "4df29721-2a18-4c4e-d08c-f263df9137f8"
      },
      "execution_count": null,
      "outputs": [
        {
          "output_type": "stream",
          "name": "stdout",
          "text": [
            "Dealing With Inattentive ADHD Without Adderall/Vyvanse/etc.? Hey there!  \n",
            "I recently saw a psychologist and a psychiatrist about my ADHD, and while they agreed that I do have it, they immediately said they do not prescribe controlled substances. Does anyone have experience with any alternatives to stimulants? I tried bringing up Wellbutrin and told them I had a positive experience with it before, but they decided not to prescribe it because they thought it would make my anxiety worse, so I was put on Lexapro instead. The symptoms I have are really affecting my school, work, and just overall daily life tbh. I think it's actually making my depression and anxiety *worse*.\n",
            "\n",
            "Is there anything other than controlled substances that could help with my ADHD symptoms? I've heard of Strattera but from what I've read, not many people seem to have good experiences with it. Should I bring up Wellbutrin again at my next appointment if the Lexapro doesn't help..?\n"
          ]
        }
      ]
    },
    {
      "cell_type": "code",
      "source": [
        "print(filtered['depression'][359])"
      ],
      "metadata": {
        "colab": {
          "base_uri": "https://localhost:8080/"
        },
        "id": "GmeIVZHc9YQK",
        "outputId": "5eb090e4-4f5b-4bc9-87b5-6f0d0b28b3dd"
      },
      "execution_count": null,
      "outputs": [
        {
          "output_type": "stream",
          "name": "stdout",
          "text": [
            "It's the weekend and all I want to do is die Work ended. Rolled away from my desk. Looked at my phone.\n",
            "\n",
            "I have no one. No one that understands me. No one that wants to be with me. No one I want to be with.\n",
            "\n",
            "I have no reason to live.\n",
            "\n",
            "I won't talk about my ex again cause I pretty much covered what happened here https://www.reddit.com/r/BreakUps/comments/u8a9o0/i_died_a_long_time_ago_my_body_just_hasnt_caught/\n",
            "\n",
            "I won't go on about my father's stage 3 cancer and his immense pain that I've been trying to manage for weeks. \n",
            "\n",
            "Kill me. I want to die. I want cancer so bad. The worst part is that I won't die. Weekend is supposed to be my time off. But what's the point when all my head is full of is pain? I'm a pussy that will not kill himself and wake up on Monday doing the whole week again.\n",
            "\n",
            "And stop telling me it'll get better. I've been depressed for a decade now. Last time I was truly happy was 5 years ago. I am depressed. My life sucks. I want to die. Kill me. Please.\n"
          ]
        }
      ]
    },
    {
      "cell_type": "code",
      "source": [
        "for subreddit in subreddits:\n",
        "  filtered[subreddit].to_csv(path+'filtered_'+subreddit+'2022.csv', index=False)"
      ],
      "metadata": {
        "id": "Kjk6bWPl_NOe"
      },
      "execution_count": null,
      "outputs": []
    },
    {
      "cell_type": "code",
      "source": [
        ""
      ],
      "metadata": {
        "id": "t9XUXGdrAMtY"
      },
      "execution_count": null,
      "outputs": []
    }
  ]
}